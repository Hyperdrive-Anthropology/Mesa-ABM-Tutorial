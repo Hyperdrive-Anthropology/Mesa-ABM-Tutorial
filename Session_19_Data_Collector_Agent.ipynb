{
  "nbformat": 4,
  "nbformat_minor": 0,
  "metadata": {
    "colab": {
      "provenance": [],
      "collapsed_sections": [
        "XAnII-29m3r2",
        "wp0VWkylOKr9",
        "BkX5GqjSnAu0"
      ],
      "include_colab_link": true
    },
    "kernelspec": {
      "name": "python3",
      "display_name": "Python 3"
    },
    "language_info": {
      "name": "python"
    }
  },
  "cells": [
    {
      "cell_type": "markdown",
      "metadata": {
        "id": "view-in-github",
        "colab_type": "text"
      },
      "source": [
        "<a href=\"https://colab.research.google.com/github/SFIComplexityExplorer/Mesa-ABM-Tutorial/blob/main/Session_19_Data_Collector_Agent.ipynb\" target=\"_parent\"><img src=\"https://colab.research.google.com/assets/colab-badge.svg\" alt=\"Open In Colab\"/></a>"
      ]
    },
    {
      "cell_type": "markdown",
      "source": [
        "# Import Dependencies"
      ],
      "metadata": {
        "id": "XAnII-29m3r2"
      }
    },
    {
      "cell_type": "code",
      "source": [
        "from google.colab import drive\n",
        "drive.mount('/content/drive')\n",
        "\n",
        "\n",
        "try: \n",
        "  import mesa\n",
        "except: \n",
        "  !pip install mesa --quiet\n",
        "import mesa\n",
        "import numpy as np\n",
        "import math\n",
        "import matplotlib.pyplot as plt\n",
        "import networkx as nx\n",
        "\n",
        "%matplotlib inline"
      ],
      "metadata": {
        "id": "ikSl2Mz0m252",
        "colab": {
          "base_uri": "https://localhost:8080/"
        },
        "outputId": "b2e16db0-7aa0-4217-86d9-1418ef6d7685"
      },
      "execution_count": null,
      "outputs": [
        {
          "output_type": "stream",
          "name": "stdout",
          "text": [
            "Mounted at /content/drive\n",
            "\u001b[2K     \u001b[90m━━━━━━━━━━━━━━━━━━━━━━━━━━━━━━━━━━━━━━━━\u001b[0m \u001b[32m1.8/1.8 MB\u001b[0m \u001b[31m24.0 MB/s\u001b[0m eta \u001b[36m0:00:00\u001b[0m\n",
            "\u001b[2K     \u001b[90m━━━━━━━━━━━━━━━━━━━━━━━━━━━━━━━━━━━━━━━━\u001b[0m \u001b[32m66.4/66.4 KB\u001b[0m \u001b[31m7.6 MB/s\u001b[0m eta \u001b[36m0:00:00\u001b[0m\n",
            "\u001b[?25h"
          ]
        }
      ]
    },
    {
      "cell_type": "markdown",
      "source": [
        "# Helper Functions"
      ],
      "metadata": {
        "id": "wp0VWkylOKr9"
      }
    },
    {
      "cell_type": "code",
      "source": [
        "def get_distance(pos_1, pos_2):\n",
        "  '''\n",
        "  Calculate the Euclidean distance between two positions\n",
        "\n",
        "  used in trade.move()\n",
        "  '''\n",
        "\n",
        "  x1, y1 = pos_1\n",
        "  x2, y2 = pos_2\n",
        "  dx = x1 - x2\n",
        "  dy = y1 - y2\n",
        "  return math.sqrt(dx**2 + dy**2)\n",
        "\n",
        "def flatten(list_of_lists):\n",
        "  '''\n",
        "  helper function for model datacollector for trade price\n",
        "  collapses agent price list into one list\n",
        "  '''\n",
        "  return [item for sublist in list_of_lists for item in sublist]\n",
        "\n",
        "def geometric_mean(list_of_prices):\n",
        "  '''\n",
        "  find the geometric mean of a list of prices\n",
        "  '''\n",
        "  return np.exp(np.log(list_of_prices).mean())\n",
        "\n",
        "def get_trade(agent):\n",
        "  '''\n",
        "  For agent reportes in data collector\n",
        "\n",
        "  return list of trade partners and None for other agents\n",
        "  '''\n",
        "  if type(agent) == Trader: \n",
        "    return agent.trade_partners\n",
        "  else: return None  "
      ],
      "metadata": {
        "id": "kg-JVcwzON_b"
      },
      "execution_count": null,
      "outputs": []
    },
    {
      "cell_type": "markdown",
      "source": [
        "# Resource Classes"
      ],
      "metadata": {
        "id": "BkX5GqjSnAu0"
      }
    },
    {
      "cell_type": "code",
      "source": [
        "class Sugar(mesa.Agent):\n",
        "  \"\"\"\n",
        "  Sugar: \n",
        "  - contains an amount of sugar\n",
        "  - grows 1 amount of sugar at each turn \n",
        "  \"\"\"\n",
        "\n",
        "  def __init__(self, unique_id, model, pos, max_sugar): \n",
        "    super().__init__(unique_id, model)\n",
        "    self.pos = pos\n",
        "    self.amount = max_sugar\n",
        "    self.max_sugar = max_sugar\n",
        "\n",
        "\n",
        "  def step(self):\n",
        "    '''\n",
        "    Sugar growth function, adds one unit of sugar each step until\n",
        "    max amount\n",
        "    '''\n",
        "    self.amount = min([self.max_sugar, self.amount+1])"
      ],
      "metadata": {
        "id": "o1EOk5KMnC55"
      },
      "execution_count": null,
      "outputs": []
    },
    {
      "cell_type": "code",
      "source": [
        "class Spice(mesa.Agent):\n",
        "  \"\"\"\n",
        "  Spice: \n",
        "  - contains an amount of spice\n",
        "  - grows 1 amount of spice at each turn\n",
        "  \"\"\"\n",
        "\n",
        "  def __init__(self, unique_id, model, pos, max_spice):\n",
        "    super().__init__(unique_id, model)\n",
        "    self.pos = pos\n",
        "    self.amount = max_spice\n",
        "    self.max_spice = max_spice\n",
        "  \n",
        "  def step(self): \n",
        "    '''\n",
        "    Spice growth function, adds one unit of spice each step until\n",
        "    max amout\n",
        "    '''\n",
        "    self.amount = min([self.max_spice, self.amount+1])"
      ],
      "metadata": {
        "id": "-oJ35Mx7nXmK"
      },
      "execution_count": null,
      "outputs": []
    },
    {
      "cell_type": "markdown",
      "source": [
        "# Trader Agent"
      ],
      "metadata": {
        "id": "XYcwNrHqnrPt"
      }
    },
    {
      "cell_type": "code",
      "source": [
        "class Trader(mesa.Agent): \n",
        "  \"\"\"\n",
        "  Trader: \n",
        "  - has a metabolism of sugar and spice\n",
        "  - harvest and trade sugar and spice to survive\n",
        "  \"\"\"\n",
        "\n",
        "\n",
        "  def __init__(self, unique_id, model, pos, moore=False, sugar=0, \n",
        "               spice=0, metabolism_sugar=0, metabolism_spice=0, \n",
        "               vision=0):\n",
        "    super().__init__(unique_id, model)\n",
        "    self.pos = pos\n",
        "    self.moore = moore\n",
        "    self.sugar = sugar\n",
        "    self.spice = spice\n",
        "    self.metabolism_sugar = metabolism_sugar\n",
        "    self.metabolism_spice = metabolism_spice\n",
        "    self.vision = vision\n",
        "    self.prices = []\n",
        "    self.trade_partners = []\n",
        "\n",
        "  \n",
        "  def get_sugar(self, pos):\n",
        "    '''\n",
        "    used in self.get_sugar_amount()\n",
        "    '''\n",
        "\n",
        "    this_cell = self.model.grid.get_cell_list_contents(pos)\n",
        "    for agent in this_cell:\n",
        "      if type(agent) is Sugar:\n",
        "        return agent\n",
        "    return None\n",
        "  \n",
        "  \n",
        "  def get_sugar_amount(self,pos):\n",
        "    '''\n",
        "    used in self.move() as part of self.calculate_welfare()\n",
        "    '''\n",
        "\n",
        "    sugar_patch = self.get_sugar(pos)\n",
        "    if sugar_patch:\n",
        "      return sugar_patch.amount\n",
        "    return 0\n",
        "  \n",
        "  def get_spice(self, pos):\n",
        "    '''\n",
        "    used in self.get_spice_amount()\n",
        "    '''\n",
        "\n",
        "    this_cell = self.model.grid.get_cell_list_contents(pos)\n",
        "    for agent in this_cell: \n",
        "      if type(agent) is Spice: \n",
        "        return agent\n",
        "    return None\n",
        "\n",
        "  def get_spice_amount(self, pos):\n",
        "    '''\n",
        "    used in self.move() as part of self.calculate_welfare()\n",
        "    '''\n",
        "\n",
        "    spice_patch = self.get_spice(pos)\n",
        "    if spice_patch: \n",
        "      return spice_patch.amount\n",
        "    return 0\n",
        "  \n",
        "  def get_trader(self, pos):\n",
        "      '''\n",
        "      helper function used in self.trade_with_neighbors()\n",
        "      '''\n",
        "\n",
        "      this_cell = self.model.grid.get_cell_list_contents(pos)\n",
        "\n",
        "      for agent in this_cell: \n",
        "        if isinstance(agent, Trader):\n",
        "          return agent\n",
        "  \n",
        "  \n",
        "  def is_occupied_by_other(self,pos):\n",
        "    '''\n",
        "    helper function part 1 of self.move()\n",
        "    '''\n",
        "\n",
        "    if pos == self.pos: \n",
        "      # agent's position is considered unoccupied as agent can stay there\n",
        "      return False\n",
        "    # get contents of each cell in neighborhood\n",
        "    this_cell = self.model.grid.get_cell_list_contents(pos)\n",
        "    for a in this_cell: \n",
        "      # see if occupied by another agent\n",
        "      if isinstance(a, Trader): \n",
        "        return True\n",
        "    return False\n",
        "  \n",
        "  def calculate_welfare(self, sugar, spice):\n",
        "    '''\n",
        "    helper function \n",
        "    \n",
        "    part 2 self.move()\n",
        "    self.trade()\n",
        "    '''\n",
        "\n",
        "    # calculate total resources\n",
        "    m_total = self.metabolism_sugar + self.metabolism_spice\n",
        "    # Cobb-Douglas functional form; starting on p. 97 on Growing Artificial Societies \n",
        "    return sugar**(self.metabolism_sugar/m_total) * spice**(\n",
        "        self.metabolism_spice/m_total)\n",
        "  \n",
        "  \n",
        "  def is_starved(self):\n",
        "    '''\n",
        "    Helper function for self.maybe_die()\n",
        "    '''\n",
        "\n",
        "    return (self.sugar <= 0) or (self.spice <= 0)\n",
        "\n",
        "  def calculate_MRS(self):\n",
        "    '''\n",
        "    Helper function for self.trade()\n",
        "\n",
        "    Determines what trader agent is needs and can give up\n",
        "    '''\n",
        "\n",
        "    return (self.spice/self.metabolism_spice) / (self.sugar/self.metabolism_sugar)\n",
        "  \n",
        "  def calculate_sell_spice_amount(self, price):\n",
        "    '''\n",
        "    helper function for self.maybe_sell_spice() which is called from \n",
        "    self.trade()\n",
        "    '''\n",
        "\n",
        "    if price >= 1: \n",
        "      sugar = 1\n",
        "      spice = int(price)\n",
        "    else: \n",
        "      sugar = int(1/price)\n",
        "      spice = 1\n",
        "    return sugar, spice\n",
        "  \n",
        "  def sell_spice(self, other, sugar, spice):\n",
        "    '''\n",
        "    used in self.maybe_sell_spice()\n",
        "\n",
        "    exchanges sugar and spice between traders\n",
        "    '''\n",
        "\n",
        "    self.sugar += sugar\n",
        "    other.sugar -= sugar\n",
        "    self.spice -= spice\n",
        "    other.spice += spice\n",
        "  \n",
        "  \n",
        "  def maybe_sell_spice(self, other, price, welfare_self, welfare_other):\n",
        "    '''\n",
        "    helper function for self.trade()\n",
        "    '''\n",
        "\n",
        "    sugar_exchanged, spice_exchanged = self.calculate_sell_spice_amount(price)\n",
        "\n",
        "    # Assess new sugar and spice amount - what if change did occur\n",
        "    self_sugar = self.sugar + sugar_exchanged\n",
        "    other_sugar = other.sugar - sugar_exchanged\n",
        "    self_spice = self.spice - spice_exchanged\n",
        "    other_spice = other.spice + spice_exchanged\n",
        "\n",
        "    # double check to ensure agents have resources\n",
        "\n",
        "    if ((self_sugar <= 0) or\n",
        "        (other_sugar <=0) or \n",
        "        (self_spice <= 0) or\n",
        "        (other_spice <= 0)):\n",
        "      return False\n",
        "\n",
        "    # trade criteria #1 - are both agents better off? \n",
        "    both_agents_better_off = (\n",
        "        (welfare_self < self.calculate_welfare(self_sugar, self_spice)) and\n",
        "        (welfare_other < other.calculate_welfare(other_sugar, other_spice)))\n",
        "    \n",
        "    # trade criteria #2 is their mrs crossing\n",
        "    mrs_not_crossing = self.calculate_MRS() > other.calculate_MRS()\n",
        "\n",
        "    if not (both_agents_better_off and mrs_not_crossing):\n",
        "      return False\n",
        "\n",
        "    # criteria met, execute trade\n",
        "    self.sell_spice(other, sugar_exchanged, spice_exchanged)\n",
        "\n",
        "    return True\n",
        "  \n",
        "  \n",
        "  def trade(self, other):\n",
        "    '''\n",
        "    helper function used in trade_with_neighbors()\n",
        "\n",
        "    other is a trader agent object\n",
        "    '''\n",
        "\n",
        "    # sanity check to verify code is working as expected \n",
        "    assert self.sugar > 0\n",
        "    assert self.spice > 0\n",
        "    assert other.sugar > 0\n",
        "    assert other.spice > 0\n",
        "  \n",
        "    # calculate marginal rate of subsitution in Growing Artificial Socieites p. 101\n",
        "    mrs_self = self.calculate_MRS()\n",
        "    mrs_other = other.calculate_MRS()\n",
        "\n",
        "    #calculate each agents welfare\n",
        "    welfare_self = self.calculate_welfare(self.sugar, self.spice)\n",
        "    welfare_other = other.calculate_welfare(other.sugar, other.spice)\n",
        "\n",
        "    if math.isclose(mrs_self, mrs_other): \n",
        "      return\n",
        "\n",
        "    # calcualte price\n",
        "    price = math.sqrt(mrs_self*mrs_other)\n",
        "    \n",
        "    if mrs_self > mrs_other: \n",
        "      # self is a sugar buyer, spice seller\n",
        "      sold = self.maybe_sell_spice(other, price, welfare_self, welfare_other)\n",
        "      # no trade - criteria not met\n",
        "      if not sold: \n",
        "        return\n",
        "    else: \n",
        "      # self is a spice buyer, sugar seller\n",
        "      sold = other.maybe_sell_spice(self, price, welfare_other, welfare_self)\n",
        "      # no trade - criteria not met\n",
        "      if not sold: \n",
        "        return\n",
        "    \n",
        "    # Capture data\n",
        "    self.prices.append(price)\n",
        "    self.trade_partners.append(other.unique_id)\n",
        "\n",
        "    # continue trading\n",
        "    self.trade(other)\n",
        "\n",
        "  ######################################################################\n",
        "  #                                                                    #  \n",
        "  #                      MAIN TRADE FUNCTIONS                          #  \n",
        "  #                                                                    #\n",
        "  ######################################################################\n",
        "  \n",
        "  \n",
        "  def move(self):\n",
        "    '''\n",
        "    Function for trader agent to identify optimal move for each step in 4 parts\n",
        "    1 - identify all possible moves\n",
        "    2 - determine which move maximizes welfare\n",
        "    3 - find closest best option\n",
        "    4 - move\n",
        "    '''\n",
        "\n",
        "    # 1. identify all possible moves\n",
        "\n",
        "    neighbors = [i\n",
        "                 for i in self.model.grid.get_neighborhood(\n",
        "                   self.pos, self.moore, True, self.vision  \n",
        "                 ) if not self.is_occupied_by_other(i)]\n",
        "\n",
        "    # 2. determine which move maximizes welfare\n",
        "\n",
        "    welfares = [\n",
        "        self.calculate_welfare(\n",
        "            self.sugar + self.get_sugar_amount(pos),\n",
        "            self.spice + self.get_spice_amount(pos)) \n",
        "        for pos in neighbors\n",
        "    ]\n",
        "\n",
        "    # 3. Find closest best option\n",
        "\n",
        "    # find the highest welfare in welfares \n",
        "    max_welfare = max(welfares)\n",
        "    # get the index of max welfare cells\n",
        "    candidate_indices = [i for i in range(len(welfares))\n",
        "                        if math.isclose(welfares[i], max_welfare)]\n",
        "\n",
        "    # convert index to positions of those cells\n",
        "    candidates = [neighbors[i] for i in candidate_indices]\n",
        "\n",
        "    min_dist = min(get_distance(self.pos, pos) for pos in candidates)\n",
        "\n",
        "    final_candidates = [ pos for pos in candidates\n",
        "                       if math.isclose(get_distance(self.pos, pos), min_dist, rel_tol=1e-02\n",
        "                                       )]\n",
        "    self.random.shuffle(final_candidates)\n",
        "\n",
        "    # 4. Move Agent\n",
        "    self.model.grid.move_agent(self, final_candidates[0])\n",
        "\n",
        "  def eat(self): \n",
        "    '''\n",
        "    Function for trader to consume sugar and spice in grid cell\n",
        "    '''\n",
        "    \n",
        "    # get sugar\n",
        "    sugar_patch = self.get_sugar(self.pos)\n",
        "    # eat sugar\n",
        "    if sugar_patch: \n",
        "      self.sugar = self.sugar - self.metabolism_sugar + sugar_patch.amount\n",
        "      sugar_patch.amount = 0\n",
        "\n",
        "    # get spice\n",
        "    spice_patch = self.get_spice(self.pos)\n",
        "    # eat spice\n",
        "    if spice_patch:\n",
        "      self.spice = self.spice - self.metabolism_spice + spice_patch.amount\n",
        "      spice_patch.amount = 0\n",
        "\n",
        "  def maybe_die(self):\n",
        "    '''\n",
        "    Function to remove Traders who have consumed all their sugar or spice\n",
        "    '''\n",
        "\n",
        "    if self.is_starved(): \n",
        "      self.model.grid.remove_agent(self)\n",
        "      self.model.schedule.remove(self)\n",
        "\n",
        "  def trade_with_neighbors(self):\n",
        "    '''\n",
        "    Function for trader agents to decide who to trade with in three parts\n",
        "\n",
        "    1- identify neighbors who can trade\n",
        "    2- trade (2 sessions)\n",
        "    3- collect data\n",
        "    '''\n",
        "\n",
        "    neighbor_agents = [self.get_trader(pos) for pos in self.model.grid.get_neighborhood(\n",
        "        self.pos, self.moore, False, self.vision) if self.is_occupied_by_other(pos)\n",
        "    ]\n",
        "\n",
        "    if len(neighbor_agents) == 0: \n",
        "      return \n",
        "    \n",
        "\n",
        "    # iterate through traders in neighboring cells and trade\n",
        "    for a in neighbor_agents: \n",
        "      if a: \n",
        "        self.trade(a)\n",
        "    \n",
        "    return"
      ],
      "metadata": {
        "id": "t51BNfwUnt53"
      },
      "execution_count": null,
      "outputs": []
    },
    {
      "cell_type": "markdown",
      "source": [
        "# Model Class"
      ],
      "metadata": {
        "id": "SRrU2ABBoF0i"
      }
    },
    {
      "cell_type": "code",
      "source": [
        "class SugarscapeG1mt(mesa.Model):\n",
        "  \"\"\"\n",
        "  Manager class to run Sugarscape with Traders\n",
        "  \"\"\"\n",
        "  \n",
        "  \n",
        "  def __init__(self, width=50,height=50, initial_population=200,\n",
        "               endowment_min=25, endowment_max=50, metabolism_min=1,\n",
        "               metabolism_max=5, vision_min=1, vision_max=5):\n",
        "    \n",
        "    #Initiate width and heigh of sugarscape\n",
        "    self.width = width\n",
        "    self.height = height \n",
        "    #Initiate population attributes\n",
        "    self.initial_population = initial_population\n",
        "    self.endowment_min = endowment_min\n",
        "    self.endowment_max = endowment_max\n",
        "    self.metabolism_min = metabolism_min\n",
        "    self.metabolism_max = metabolism_max\n",
        "    self.vision_min = vision_min\n",
        "    self.vision_max = vision_max\n",
        "\n",
        "    # initiate activation schedule\n",
        "    self.schedule = mesa.time.RandomActivationByType(self)    \n",
        "    # initiate mesa grid class\n",
        "    self.grid = mesa.space.MultiGrid(self.width, self.height, torus=False)\n",
        "    # initiate datacollector\n",
        "    self.datacollector = mesa.DataCollector(\n",
        "        model_reporters = {\"Trader\": lambda m: m.schedule.get_type_count(Trader),\n",
        "         \"Trade Volume\": lambda m: sum(len(a.trade_partners)\n",
        "         for a in m.schedule.agents_by_type[Trader].values()),\n",
        "         \"Price\": lambda m: geometric_mean(flatten([a.prices for a in m.schedule.agents_by_type[Trader].values()]))}, \n",
        "       agent_reporters = {\"Trade Network\": lambda a: get_trade(a)}  \n",
        "    )\n",
        "\n",
        "\n",
        "    #read in landscape file from supplmentary material \n",
        "    sugar_distribution =np.genfromtxt(\"/content/drive/MyDrive/sugar-map.txt\")\n",
        "    spice_distribution = np.flip(sugar_distribution, 1)\n",
        "    \n",
        "    agent_id = 0\n",
        "    for _,x,y in self.grid.coord_iter():\n",
        "      max_sugar = sugar_distribution[x,y]\n",
        "      if max_sugar > 0: \n",
        "        sugar = Sugar(agent_id, self, (x,y), max_sugar)\n",
        "        self.schedule.add(sugar)\n",
        "        self.grid.place_agent(sugar, (x,y))\n",
        "        agent_id += 1\n",
        "    \n",
        "      max_spice = spice_distribution[x,y]\n",
        "      if max_spice > 0: \n",
        "        spice = Spice(agent_id, self, (x,y), max_spice)\n",
        "        self.schedule.add(spice)\n",
        "        self.grid.place_agent(spice, (x,y))\n",
        "        agent_id += 1    \n",
        "\n",
        "    for i in range(self.initial_population):\n",
        "      #get agent position\n",
        "      x = self.random.randrange(self.width)\n",
        "      y = self.random.randrange(self.height)\n",
        "      #see Growing Artificial Societies p. 108 for initialization\n",
        "      #give agents initial endowment\n",
        "      sugar = int(self.random.uniform(self.endowment_min, self.endowment_max+1))\n",
        "      spice = int(self.random.uniform(self.endowment_min, self.endowment_max+1))\n",
        "      #give agents initial metabolism\n",
        "      metabolism_sugar = int(self.random.uniform(self.metabolism_min, self.metabolism_max+1))\n",
        "      metabolism_spice = int(self.random.uniform(self.metabolism_min, self.metabolism_max+1))\n",
        "      #give agents vision\n",
        "      vision = int(self.random.uniform(self.vision_min, self.vision_max+1))\n",
        "      #create Trader object\n",
        "      trader = Trader(agent_id, \n",
        "                      self,\n",
        "                      (x,y),\n",
        "                      moore = False, \n",
        "                      sugar = sugar, \n",
        "                      spice = spice, \n",
        "                      metabolism_sugar = metabolism_sugar, \n",
        "                      metabolism_spice = metabolism_spice, \n",
        "                      vision = vision)\n",
        "      #place agent\n",
        "      self.grid.place_agent(trader, (x,y))\n",
        "      self.schedule.add(trader)\n",
        "      agent_id += 1\n",
        "\n",
        "  def randomize_traders(self): \n",
        "    '''\n",
        "    helper function for self.step()\n",
        "\n",
        "    puts traders in randomized list for step function\n",
        "    '''\n",
        "\n",
        "    trader_shuffle = list(self.schedule.agents_by_type[Trader].values())\n",
        "    self.random.shuffle(trader_shuffle)\n",
        "\n",
        "    return trader_shuffle\n",
        "  \n",
        "  \n",
        "  def step(self):\n",
        "    '''\n",
        "    Unique step function that does staged activation of sugar and spice\n",
        "    and then randomly activates traders\n",
        "    '''    \n",
        "    # step Sugar agents\n",
        "    for sugar in self.schedule.agents_by_type[Sugar].values(): \n",
        "      sugar.step()\n",
        "    \n",
        "    # step Spice agents\n",
        "    for spice in self.schedule.agents_by_type[Spice].values(): \n",
        "      spice.step()\n",
        "\n",
        "    # step trader agents\n",
        "    # to account for agent death and removal we need a seperate data strcuture to \n",
        "    # iterate\n",
        "    trader_shuffle = self.randomize_traders()\n",
        "    \n",
        "    for agent in trader_shuffle: \n",
        "      agent.prices = []\n",
        "      agent.trade_partners = []\n",
        "      agent.move()\n",
        "      agent.eat()\n",
        "      agent.maybe_die()\n",
        "\n",
        "    trader_shuffle = self.randomize_traders()\n",
        "\n",
        "    for agent in trader_shuffle:\n",
        "      agent.trade_with_neighbors()\n",
        "    \n",
        "    self.schedule.steps += 1 #important for data collector to track number of steps\n",
        "\n",
        "    # collect model level data\n",
        "    self.datacollector.collect(self)\n",
        "\n",
        "  def run_model(self, step_count=1000):\n",
        "\n",
        "    for i in range(step_count):\n",
        "      self.step()"
      ],
      "metadata": {
        "id": "7DTonjahn2BT"
      },
      "execution_count": null,
      "outputs": []
    },
    {
      "cell_type": "markdown",
      "source": [
        "# Run Sugarscape"
      ],
      "metadata": {
        "id": "_KHKfeD9oiYo"
      }
    },
    {
      "cell_type": "code",
      "source": [
        "model = SugarscapeG1mt()\n",
        "model.run_model()\n"
      ],
      "metadata": {
        "id": "at455urSol7b",
        "colab": {
          "base_uri": "https://localhost:8080/"
        },
        "outputId": "5e5b4d28-8779-444a-da2e-9da26a3b39de"
      },
      "execution_count": null,
      "outputs": [
        {
          "output_type": "stream",
          "name": "stderr",
          "text": [
            "<ipython-input-2-d4e043c58af1>:25: RuntimeWarning: Mean of empty slice.\n",
            "  return np.exp(np.log(list_of_prices).mean())\n",
            "/usr/local/lib/python3.8/dist-packages/numpy/core/_methods.py:189: RuntimeWarning: invalid value encountered in double_scalars\n",
            "  ret = ret.dtype.type(ret / rcount)\n"
          ]
        }
      ]
    },
    {
      "cell_type": "markdown",
      "source": [
        "# Analyze Data"
      ],
      "metadata": {
        "id": "XQ7ykQMWoRyU"
      }
    },
    {
      "cell_type": "code",
      "source": [
        "results = model.datacollector.get_model_vars_dataframe()\n",
        "\n",
        "results"
      ],
      "metadata": {
        "id": "vemquyVptT3Z",
        "colab": {
          "base_uri": "https://localhost:8080/",
          "height": 424
        },
        "outputId": "ba921b34-6b76-4377-b701-01a2b04203fb"
      },
      "execution_count": null,
      "outputs": [
        {
          "output_type": "execute_result",
          "data": {
            "text/plain": [
              "     Trader  Trade Volume     Price\n",
              "0       200           742  1.004358\n",
              "1       200           165  0.881968\n",
              "2       200           129  0.985626\n",
              "3       200           126  0.926985\n",
              "4       200            93  0.908400\n",
              "..      ...           ...       ...\n",
              "995      57            40  1.118344\n",
              "996      57             3  1.000326\n",
              "997      57             4  1.425817\n",
              "998      57             2  0.988892\n",
              "999      57            13  1.039144\n",
              "\n",
              "[1000 rows x 3 columns]"
            ],
            "text/html": [
              "\n",
              "  <div id=\"df-26e2f0e6-03be-4228-8446-68fb2f3f591e\">\n",
              "    <div class=\"colab-df-container\">\n",
              "      <div>\n",
              "<style scoped>\n",
              "    .dataframe tbody tr th:only-of-type {\n",
              "        vertical-align: middle;\n",
              "    }\n",
              "\n",
              "    .dataframe tbody tr th {\n",
              "        vertical-align: top;\n",
              "    }\n",
              "\n",
              "    .dataframe thead th {\n",
              "        text-align: right;\n",
              "    }\n",
              "</style>\n",
              "<table border=\"1\" class=\"dataframe\">\n",
              "  <thead>\n",
              "    <tr style=\"text-align: right;\">\n",
              "      <th></th>\n",
              "      <th>Trader</th>\n",
              "      <th>Trade Volume</th>\n",
              "      <th>Price</th>\n",
              "    </tr>\n",
              "  </thead>\n",
              "  <tbody>\n",
              "    <tr>\n",
              "      <th>0</th>\n",
              "      <td>200</td>\n",
              "      <td>742</td>\n",
              "      <td>1.004358</td>\n",
              "    </tr>\n",
              "    <tr>\n",
              "      <th>1</th>\n",
              "      <td>200</td>\n",
              "      <td>165</td>\n",
              "      <td>0.881968</td>\n",
              "    </tr>\n",
              "    <tr>\n",
              "      <th>2</th>\n",
              "      <td>200</td>\n",
              "      <td>129</td>\n",
              "      <td>0.985626</td>\n",
              "    </tr>\n",
              "    <tr>\n",
              "      <th>3</th>\n",
              "      <td>200</td>\n",
              "      <td>126</td>\n",
              "      <td>0.926985</td>\n",
              "    </tr>\n",
              "    <tr>\n",
              "      <th>4</th>\n",
              "      <td>200</td>\n",
              "      <td>93</td>\n",
              "      <td>0.908400</td>\n",
              "    </tr>\n",
              "    <tr>\n",
              "      <th>...</th>\n",
              "      <td>...</td>\n",
              "      <td>...</td>\n",
              "      <td>...</td>\n",
              "    </tr>\n",
              "    <tr>\n",
              "      <th>995</th>\n",
              "      <td>57</td>\n",
              "      <td>40</td>\n",
              "      <td>1.118344</td>\n",
              "    </tr>\n",
              "    <tr>\n",
              "      <th>996</th>\n",
              "      <td>57</td>\n",
              "      <td>3</td>\n",
              "      <td>1.000326</td>\n",
              "    </tr>\n",
              "    <tr>\n",
              "      <th>997</th>\n",
              "      <td>57</td>\n",
              "      <td>4</td>\n",
              "      <td>1.425817</td>\n",
              "    </tr>\n",
              "    <tr>\n",
              "      <th>998</th>\n",
              "      <td>57</td>\n",
              "      <td>2</td>\n",
              "      <td>0.988892</td>\n",
              "    </tr>\n",
              "    <tr>\n",
              "      <th>999</th>\n",
              "      <td>57</td>\n",
              "      <td>13</td>\n",
              "      <td>1.039144</td>\n",
              "    </tr>\n",
              "  </tbody>\n",
              "</table>\n",
              "<p>1000 rows × 3 columns</p>\n",
              "</div>\n",
              "      <button class=\"colab-df-convert\" onclick=\"convertToInteractive('df-26e2f0e6-03be-4228-8446-68fb2f3f591e')\"\n",
              "              title=\"Convert this dataframe to an interactive table.\"\n",
              "              style=\"display:none;\">\n",
              "        \n",
              "  <svg xmlns=\"http://www.w3.org/2000/svg\" height=\"24px\"viewBox=\"0 0 24 24\"\n",
              "       width=\"24px\">\n",
              "    <path d=\"M0 0h24v24H0V0z\" fill=\"none\"/>\n",
              "    <path d=\"M18.56 5.44l.94 2.06.94-2.06 2.06-.94-2.06-.94-.94-2.06-.94 2.06-2.06.94zm-11 1L8.5 8.5l.94-2.06 2.06-.94-2.06-.94L8.5 2.5l-.94 2.06-2.06.94zm10 10l.94 2.06.94-2.06 2.06-.94-2.06-.94-.94-2.06-.94 2.06-2.06.94z\"/><path d=\"M17.41 7.96l-1.37-1.37c-.4-.4-.92-.59-1.43-.59-.52 0-1.04.2-1.43.59L10.3 9.45l-7.72 7.72c-.78.78-.78 2.05 0 2.83L4 21.41c.39.39.9.59 1.41.59.51 0 1.02-.2 1.41-.59l7.78-7.78 2.81-2.81c.8-.78.8-2.07 0-2.86zM5.41 20L4 18.59l7.72-7.72 1.47 1.35L5.41 20z\"/>\n",
              "  </svg>\n",
              "      </button>\n",
              "      \n",
              "  <style>\n",
              "    .colab-df-container {\n",
              "      display:flex;\n",
              "      flex-wrap:wrap;\n",
              "      gap: 12px;\n",
              "    }\n",
              "\n",
              "    .colab-df-convert {\n",
              "      background-color: #E8F0FE;\n",
              "      border: none;\n",
              "      border-radius: 50%;\n",
              "      cursor: pointer;\n",
              "      display: none;\n",
              "      fill: #1967D2;\n",
              "      height: 32px;\n",
              "      padding: 0 0 0 0;\n",
              "      width: 32px;\n",
              "    }\n",
              "\n",
              "    .colab-df-convert:hover {\n",
              "      background-color: #E2EBFA;\n",
              "      box-shadow: 0px 1px 2px rgba(60, 64, 67, 0.3), 0px 1px 3px 1px rgba(60, 64, 67, 0.15);\n",
              "      fill: #174EA6;\n",
              "    }\n",
              "\n",
              "    [theme=dark] .colab-df-convert {\n",
              "      background-color: #3B4455;\n",
              "      fill: #D2E3FC;\n",
              "    }\n",
              "\n",
              "    [theme=dark] .colab-df-convert:hover {\n",
              "      background-color: #434B5C;\n",
              "      box-shadow: 0px 1px 3px 1px rgba(0, 0, 0, 0.15);\n",
              "      filter: drop-shadow(0px 1px 2px rgba(0, 0, 0, 0.3));\n",
              "      fill: #FFFFFF;\n",
              "    }\n",
              "  </style>\n",
              "\n",
              "      <script>\n",
              "        const buttonEl =\n",
              "          document.querySelector('#df-26e2f0e6-03be-4228-8446-68fb2f3f591e button.colab-df-convert');\n",
              "        buttonEl.style.display =\n",
              "          google.colab.kernel.accessAllowed ? 'block' : 'none';\n",
              "\n",
              "        async function convertToInteractive(key) {\n",
              "          const element = document.querySelector('#df-26e2f0e6-03be-4228-8446-68fb2f3f591e');\n",
              "          const dataTable =\n",
              "            await google.colab.kernel.invokeFunction('convertToInteractive',\n",
              "                                                     [key], {});\n",
              "          if (!dataTable) return;\n",
              "\n",
              "          const docLinkHtml = 'Like what you see? Visit the ' +\n",
              "            '<a target=\"_blank\" href=https://colab.research.google.com/notebooks/data_table.ipynb>data table notebook</a>'\n",
              "            + ' to learn more about interactive tables.';\n",
              "          element.innerHTML = '';\n",
              "          dataTable['output_type'] = 'display_data';\n",
              "          await google.colab.output.renderOutput(dataTable, element);\n",
              "          const docLink = document.createElement('div');\n",
              "          docLink.innerHTML = docLinkHtml;\n",
              "          element.appendChild(docLink);\n",
              "        }\n",
              "      </script>\n",
              "    </div>\n",
              "  </div>\n",
              "  "
            ]
          },
          "metadata": {},
          "execution_count": 19
        }
      ]
    },
    {
      "cell_type": "code",
      "source": [
        "# retrieve agent level results\n",
        "agent_results = model.datacollector.get_agent_vars_dataframe()\n",
        "# filter out Nones from non-trader agents\n",
        "agent_results = agent_results[agent_results[\"Trade Network\"].notnull()]\n",
        "agent_results"
      ],
      "metadata": {
        "colab": {
          "base_uri": "https://localhost:8080/",
          "height": 455
        },
        "id": "U5rdEkll3v9o",
        "outputId": "a006d3c0-5faa-435e-ae79-6a61df3fa685"
      },
      "execution_count": null,
      "outputs": [
        {
          "output_type": "execute_result",
          "data": {
            "text/plain": [
              "             Trade Network\n",
              "Step AgentID              \n",
              "1    4138               []\n",
              "     4139               []\n",
              "     4140               []\n",
              "     4141           [4228]\n",
              "     4142               []\n",
              "...                    ...\n",
              "1000 4332               []\n",
              "     4333               []\n",
              "     4334               []\n",
              "     4335               []\n",
              "     4337               []\n",
              "\n",
              "[69727 rows x 1 columns]"
            ],
            "text/html": [
              "\n",
              "  <div id=\"df-d0d388dc-ff66-4f93-82a2-92228c9904cc\">\n",
              "    <div class=\"colab-df-container\">\n",
              "      <div>\n",
              "<style scoped>\n",
              "    .dataframe tbody tr th:only-of-type {\n",
              "        vertical-align: middle;\n",
              "    }\n",
              "\n",
              "    .dataframe tbody tr th {\n",
              "        vertical-align: top;\n",
              "    }\n",
              "\n",
              "    .dataframe thead th {\n",
              "        text-align: right;\n",
              "    }\n",
              "</style>\n",
              "<table border=\"1\" class=\"dataframe\">\n",
              "  <thead>\n",
              "    <tr style=\"text-align: right;\">\n",
              "      <th></th>\n",
              "      <th></th>\n",
              "      <th>Trade Network</th>\n",
              "    </tr>\n",
              "    <tr>\n",
              "      <th>Step</th>\n",
              "      <th>AgentID</th>\n",
              "      <th></th>\n",
              "    </tr>\n",
              "  </thead>\n",
              "  <tbody>\n",
              "    <tr>\n",
              "      <th rowspan=\"5\" valign=\"top\">1</th>\n",
              "      <th>4138</th>\n",
              "      <td>[]</td>\n",
              "    </tr>\n",
              "    <tr>\n",
              "      <th>4139</th>\n",
              "      <td>[]</td>\n",
              "    </tr>\n",
              "    <tr>\n",
              "      <th>4140</th>\n",
              "      <td>[]</td>\n",
              "    </tr>\n",
              "    <tr>\n",
              "      <th>4141</th>\n",
              "      <td>[4228]</td>\n",
              "    </tr>\n",
              "    <tr>\n",
              "      <th>4142</th>\n",
              "      <td>[]</td>\n",
              "    </tr>\n",
              "    <tr>\n",
              "      <th>...</th>\n",
              "      <th>...</th>\n",
              "      <td>...</td>\n",
              "    </tr>\n",
              "    <tr>\n",
              "      <th rowspan=\"5\" valign=\"top\">1000</th>\n",
              "      <th>4332</th>\n",
              "      <td>[]</td>\n",
              "    </tr>\n",
              "    <tr>\n",
              "      <th>4333</th>\n",
              "      <td>[]</td>\n",
              "    </tr>\n",
              "    <tr>\n",
              "      <th>4334</th>\n",
              "      <td>[]</td>\n",
              "    </tr>\n",
              "    <tr>\n",
              "      <th>4335</th>\n",
              "      <td>[]</td>\n",
              "    </tr>\n",
              "    <tr>\n",
              "      <th>4337</th>\n",
              "      <td>[]</td>\n",
              "    </tr>\n",
              "  </tbody>\n",
              "</table>\n",
              "<p>69727 rows × 1 columns</p>\n",
              "</div>\n",
              "      <button class=\"colab-df-convert\" onclick=\"convertToInteractive('df-d0d388dc-ff66-4f93-82a2-92228c9904cc')\"\n",
              "              title=\"Convert this dataframe to an interactive table.\"\n",
              "              style=\"display:none;\">\n",
              "        \n",
              "  <svg xmlns=\"http://www.w3.org/2000/svg\" height=\"24px\"viewBox=\"0 0 24 24\"\n",
              "       width=\"24px\">\n",
              "    <path d=\"M0 0h24v24H0V0z\" fill=\"none\"/>\n",
              "    <path d=\"M18.56 5.44l.94 2.06.94-2.06 2.06-.94-2.06-.94-.94-2.06-.94 2.06-2.06.94zm-11 1L8.5 8.5l.94-2.06 2.06-.94-2.06-.94L8.5 2.5l-.94 2.06-2.06.94zm10 10l.94 2.06.94-2.06 2.06-.94-2.06-.94-.94-2.06-.94 2.06-2.06.94z\"/><path d=\"M17.41 7.96l-1.37-1.37c-.4-.4-.92-.59-1.43-.59-.52 0-1.04.2-1.43.59L10.3 9.45l-7.72 7.72c-.78.78-.78 2.05 0 2.83L4 21.41c.39.39.9.59 1.41.59.51 0 1.02-.2 1.41-.59l7.78-7.78 2.81-2.81c.8-.78.8-2.07 0-2.86zM5.41 20L4 18.59l7.72-7.72 1.47 1.35L5.41 20z\"/>\n",
              "  </svg>\n",
              "      </button>\n",
              "      \n",
              "  <style>\n",
              "    .colab-df-container {\n",
              "      display:flex;\n",
              "      flex-wrap:wrap;\n",
              "      gap: 12px;\n",
              "    }\n",
              "\n",
              "    .colab-df-convert {\n",
              "      background-color: #E8F0FE;\n",
              "      border: none;\n",
              "      border-radius: 50%;\n",
              "      cursor: pointer;\n",
              "      display: none;\n",
              "      fill: #1967D2;\n",
              "      height: 32px;\n",
              "      padding: 0 0 0 0;\n",
              "      width: 32px;\n",
              "    }\n",
              "\n",
              "    .colab-df-convert:hover {\n",
              "      background-color: #E2EBFA;\n",
              "      box-shadow: 0px 1px 2px rgba(60, 64, 67, 0.3), 0px 1px 3px 1px rgba(60, 64, 67, 0.15);\n",
              "      fill: #174EA6;\n",
              "    }\n",
              "\n",
              "    [theme=dark] .colab-df-convert {\n",
              "      background-color: #3B4455;\n",
              "      fill: #D2E3FC;\n",
              "    }\n",
              "\n",
              "    [theme=dark] .colab-df-convert:hover {\n",
              "      background-color: #434B5C;\n",
              "      box-shadow: 0px 1px 3px 1px rgba(0, 0, 0, 0.15);\n",
              "      filter: drop-shadow(0px 1px 2px rgba(0, 0, 0, 0.3));\n",
              "      fill: #FFFFFF;\n",
              "    }\n",
              "  </style>\n",
              "\n",
              "      <script>\n",
              "        const buttonEl =\n",
              "          document.querySelector('#df-d0d388dc-ff66-4f93-82a2-92228c9904cc button.colab-df-convert');\n",
              "        buttonEl.style.display =\n",
              "          google.colab.kernel.accessAllowed ? 'block' : 'none';\n",
              "\n",
              "        async function convertToInteractive(key) {\n",
              "          const element = document.querySelector('#df-d0d388dc-ff66-4f93-82a2-92228c9904cc');\n",
              "          const dataTable =\n",
              "            await google.colab.kernel.invokeFunction('convertToInteractive',\n",
              "                                                     [key], {});\n",
              "          if (!dataTable) return;\n",
              "\n",
              "          const docLinkHtml = 'Like what you see? Visit the ' +\n",
              "            '<a target=\"_blank\" href=https://colab.research.google.com/notebooks/data_table.ipynb>data table notebook</a>'\n",
              "            + ' to learn more about interactive tables.';\n",
              "          element.innerHTML = '';\n",
              "          dataTable['output_type'] = 'display_data';\n",
              "          await google.colab.output.renderOutput(dataTable, element);\n",
              "          const docLink = document.createElement('div');\n",
              "          docLink.innerHTML = docLinkHtml;\n",
              "          element.appendChild(docLink);\n",
              "        }\n",
              "      </script>\n",
              "    </div>\n",
              "  </div>\n",
              "  "
            ]
          },
          "metadata": {},
          "execution_count": 9
        }
      ]
    },
    {
      "cell_type": "code",
      "source": [
        "# plot number of agents per time step \n",
        "results.plot(y = \"Trader\", use_index=True)"
      ],
      "metadata": {
        "colab": {
          "base_uri": "https://localhost:8080/",
          "height": 282
        },
        "id": "lr0rYpIpovMg",
        "outputId": "3ac6b961-3084-4a58-ae6b-c82f826ac378"
      },
      "execution_count": null,
      "outputs": [
        {
          "output_type": "execute_result",
          "data": {
            "text/plain": [
              "<matplotlib.axes._subplots.AxesSubplot at 0x7f0088783d00>"
            ]
          },
          "metadata": {},
          "execution_count": 20
        },
        {
          "output_type": "display_data",
          "data": {
            "text/plain": [
              "<Figure size 432x288 with 1 Axes>"
            ],
            "image/png": "[encoded data removed]"
          },
          "metadata": {
            "needs_background": "light"
          }
        }
      ]
    },
    {
      "cell_type": "code",
      "source": [
        "# plot trade price per step \n",
        "\n",
        "y = list(results[\"Price\"])\n",
        "x = range(1000)\n",
        "\n",
        "plt.scatter(x,y, s=1)"
      ],
      "metadata": {
        "colab": {
          "base_uri": "https://localhost:8080/",
          "height": 282
        },
        "id": "MIAxl_Oqo7M4",
        "outputId": "a31247c6-8d50-42dc-8883-22e753dea6e8"
      },
      "execution_count": null,
      "outputs": [
        {
          "output_type": "execute_result",
          "data": {
            "text/plain": [
              "<matplotlib.collections.PathCollection at 0x7f00881d5850>"
            ]
          },
          "metadata": {},
          "execution_count": 21
        },
        {
          "output_type": "display_data",
          "data": {
            "text/plain": [
              "<Figure size 432x288 with 1 Axes>"
            ],
            "image/png": "[encoded data removed]"
          },
          "metadata": {
            "needs_background": "light"
          }
        }
      ]
    },
    {
      "cell_type": "code",
      "source": [
        "# Plot trade volume improved\n",
        "\n",
        "for i in range(1000):\n",
        "  plt.vlines(i,0,results[\"Trade Volume\"][i])"
      ],
      "metadata": {
        "colab": {
          "base_uri": "https://localhost:8080/",
          "height": 265
        },
        "id": "fJL9UPatpgOO",
        "outputId": "7560507e-f684-473c-9e12-c67e3c76a22f"
      },
      "execution_count": null,
      "outputs": [
        {
          "output_type": "display_data",
          "data": {
            "text/plain": [
              "<Figure size 432x288 with 1 Axes>"
            ],
            "image/png": "[encoded data removed]"
          },
          "metadata": {
            "needs_background": "light"
          }
        }
      ]
    },
    {
      "cell_type": "code",
      "source": [
        "#  create graph object\n",
        "G = nx.Graph()\n",
        "\n",
        "# add agent keys to make initial node set\n",
        "G.add_nodes_from(list(model.schedule.agents_by_type[Trader].keys()))\n",
        "\n",
        "# create edge list\n",
        "for idx, row in agent_results.iterrows(): \n",
        "  if len(row[\"Trade Network\"]) > 0: \n",
        "    for agent in row[\"Trade Network\"]:\n",
        "      G.add_edge(idx[1], agent)\n",
        "\n"
      ],
      "metadata": {
        "id": "ql0x0DcEqMVF"
      },
      "execution_count": null,
      "outputs": []
    },
    {
      "cell_type": "code",
      "source": [
        "nx.node_connectivity(G), nx.average_clustering(G), nx.diameter(G), nx.global_efficiency(G)\n"
      ],
      "metadata": {
        "colab": {
          "base_uri": "https://localhost:8080/"
        },
        "id": "-OZb4MUb40jO",
        "outputId": "d4b1f5cc-4970-47db-d02f-64d3972d7049"
      },
      "execution_count": null,
      "outputs": [
        {
          "output_type": "execute_result",
          "data": {
            "text/plain": [
              "(1, 0.41812264143982675, 6, 0.4702114723764785)"
            ]
          },
          "metadata": {},
          "execution_count": 25
        }
      ]
    },
    {
      "cell_type": "code",
      "source": [
        "degree = [d for n,d in G.degree()]\n",
        "plt.hist(degree)"
      ],
      "metadata": {
        "colab": {
          "base_uri": "https://localhost:8080/",
          "height": 318
        },
        "id": "s5pJwG705mMA",
        "outputId": "df51ad4c-bf84-4666-dc68-18610428595d"
      },
      "execution_count": null,
      "outputs": [
        {
          "output_type": "execute_result",
          "data": {
            "text/plain": [
              "(array([58., 56., 14., 15., 15., 12., 10.,  9.,  4.,  2.]),\n",
              " array([ 1. ,  8.1, 15.2, 22.3, 29.4, 36.5, 43.6, 50.7, 57.8, 64.9, 72. ]),\n",
              " <a list of 10 Patch objects>)"
            ]
          },
          "metadata": {},
          "execution_count": 27
        },
        {
          "output_type": "display_data",
          "data": {
            "text/plain": [
              "<Figure size 432x288 with 1 Axes>"
            ],
            "image/png": "[encoded data removed]"
          },
          "metadata": {
            "needs_background": "light"
          }
        }
      ]
    },
    {
      "cell_type": "code",
      "source": [
        "nx.draw(G)"
      ],
      "metadata": {
        "colab": {
          "base_uri": "https://localhost:8080/",
          "height": 319
        },
        "id": "xLwzO1WP55vS",
        "outputId": "caedfcbe-316c-4b05-82e6-f8dbbfdc6e6c"
      },
      "execution_count": null,
      "outputs": [
        {
          "output_type": "display_data",
          "data": {
            "text/plain": [
              "<Figure size 432x288 with 1 Axes>"
            ],
            "image/png": "[encoded data removed]"
          },
          "metadata": {}
        }
      ]
    },
    {
      "cell_type": "code",
      "source": [],
      "metadata": {
        "id": "wA57Rer-6CtV"
      },
      "execution_count": null,
      "outputs": []
    }
  ]
}