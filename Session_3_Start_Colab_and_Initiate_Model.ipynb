{
  "cells": [
    {
      "cell_type": "markdown",
      "metadata": {
        "id": "view-in-github",
        "colab_type": "text"
      },
      "source": [
        "<a href=\"https://colab.research.google.com/github/SFIComplexityExplorer/Mesa-ABM-Tutorial/blob/main/Session_3_Start_Colab_and_Initiate_Model.ipynb\" target=\"_parent\"><img src=\"https://colab.research.google.com/assets/colab-badge.svg\" alt=\"Open In Colab\"/></a>"
      ]
    },
    {
      "cell_type": "markdown",
      "metadata": {
        "id": "XAnII-29m3r2"
      },
      "source": [
        "# Import Dependencies"
      ]
    },
    {
      "cell_type": "code",
      "source": [
        "!pip install mesa"
      ],
      "metadata": {
        "id": "cCa7pEqXdY82",
        "colab": {
          "base_uri": "https://localhost:8080/"
        },
        "outputId": "be57fead-256d-48fc-d878-bd3ee8d3bff2"
      },
      "execution_count": null,
      "outputs": [
        {
          "output_type": "stream",
          "name": "stdout",
          "text": [
            "Installing collected packages: binaryornot, arrow, jinja2-time, cookiecutter, mesa\n",
            "Successfully installed arrow-1.2.3 binaryornot-0.4.4 cookiecutter-2.1.1 jinja2-time-0.2.0 mesa-1.1.1\n"
          ]
        }
      ]
    },
    {
      "cell_type": "code",
      "execution_count": null,
      "metadata": {
        "id": "ikSl2Mz0m252"
      },
      "outputs": [],
      "source": [
        "import mesa"
      ]
    },
    {
      "cell_type": "markdown",
      "metadata": {
        "id": "BkX5GqjSnAu0"
      },
      "source": [
        "# Resource Classes"
      ]
    },
    {
      "cell_type": "code",
      "execution_count": null,
      "metadata": {
        "id": "o1EOk5KMnC55"
      },
      "outputs": [],
      "source": [
        "class Sugar(mesa.Agent):\n",
        "  \"\"\"\n",
        "  Sugar: \n",
        "  - contains an amount of sugar\n",
        "  - grows 1 amount of sugar at each turn \n",
        "  \"\"\"\n",
        "\n",
        "  def __init__(self): \n",
        "    print(\"I am Sugar\")"
      ]
    },
    {
      "cell_type": "code",
      "execution_count": null,
      "metadata": {
        "id": "-oJ35Mx7nXmK"
      },
      "outputs": [],
      "source": [
        "class Spice(mesa.Agent):\n",
        "  \"\"\"\n",
        "  Spice: \n",
        "  - contains an amount of spice\n",
        "  - grows 1 amount of spice at each turn\n",
        "  \"\"\"\n",
        "\n",
        "  def __init__(self):\n",
        "    print(\"I am Spice\")\n",
        "  "
      ]
    },
    {
      "cell_type": "markdown",
      "metadata": {
        "id": "XYcwNrHqnrPt"
      },
      "source": [
        "# Trader Agent"
      ]
    },
    {
      "cell_type": "code",
      "execution_count": null,
      "metadata": {
        "id": "t51BNfwUnt53"
      },
      "outputs": [],
      "source": [
        "class Trader(mesa.Agent): \n",
        "  \"\"\"\n",
        "  Trader: \n",
        "  - has a metabolism of sugar and spice\n",
        "  - harvest and trade sugar and spice to survive\n",
        "  \"\"\"\n",
        "\n",
        "\n",
        "  def __init__(self):\n",
        "    print(\"I am Trader\")\n",
        " \n"
      ]
    },
    {
      "cell_type": "markdown",
      "metadata": {
        "id": "SRrU2ABBoF0i"
      },
      "source": [
        "# Model Class"
      ]
    },
    {
      "cell_type": "code",
      "execution_count": null,
      "metadata": {
        "id": "7DTonjahn2BT"
      },
      "outputs": [],
      "source": [
        "class SugarscapeG1mt(mesa.Model):\n",
        "  \"\"\"\n",
        "  Manager class to run Sugarscape with Traders\n",
        "  \"\"\"\n",
        "  \n",
        "  \n",
        "  def __init__(self, width=50,height=50):\n",
        "    self.spice = Spice()\n",
        "    self.sugar = Sugar()\n",
        "    self.trader = Trader()\n"
      ]
    },
    {
      "cell_type": "markdown",
      "metadata": {
        "id": "_KHKfeD9oiYo"
      },
      "source": [
        "# Run Sugarscape"
      ]
    },
    {
      "cell_type": "code",
      "execution_count": null,
      "metadata": {
        "id": "at455urSol7b",
        "colab": {
          "base_uri": "https://localhost:8080/"
        },
        "outputId": "bb247582-2d50-4630-fe0d-9787453768b3"
      },
      "outputs": [
        {
          "output_type": "stream",
          "name": "stdout",
          "text": [
            "I am Spice\n",
            "I am Sugar\n",
            "I am Trader\n"
          ]
        }
      ],
      "source": [
        "model = SugarscapeG1mt()\n",
        "\n"
      ]
    },
    {
      "cell_type": "code",
      "execution_count": null,
      "metadata": {
        "id": "vemquyVptT3Z"
      },
      "outputs": [],
      "source": []
    }
  ],
  "metadata": {
    "colab": {
      "provenance": [],
      "include_colab_link": true
    },
    "kernelspec": {
      "display_name": "Python 3",
      "language": "python",
      "name": "python3"
    },
    "language_info": {
      "codemirror_mode": {
        "name": "ipython",
        "version": 3
      },
      "file_extension": ".py",
      "mimetype": "text/x-python",
      "name": "python",
      "nbconvert_exporter": "python",
      "pygments_lexer": "ipython3",
      "version": "3.9.6"
    }
  },
  "nbformat": 4,
  "nbformat_minor": 0
}